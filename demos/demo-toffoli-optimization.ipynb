{
 "cells": [
  {
   "cell_type": "markdown",
   "metadata": {},
   "source": [
    "# Interactive Circuit Viewer Demo for a Toffoli gate\n",
    "\n",
    "## Imports and setup"
   ]
  },
  {
   "cell_type": "code",
   "execution_count": 7,
   "metadata": {},
   "outputs": [],
   "source": [
    "import os\n",
    "from patoka import getCircuitViewer, TranspileParam\n",
    "from qiskit import QuantumCircuit\n",
    "from qiskit_ibm_runtime import QiskitRuntimeService"
   ]
  },
  {
   "cell_type": "code",
   "execution_count": 3,
   "metadata": {},
   "outputs": [],
   "source": [
    "token = os.environ[\"ibm_token\"]\n",
    "QiskitRuntimeService.save_account(channel=\"ibm_quantum\", token=token, overwrite=True)\n",
    "service = QiskitRuntimeService(channel='ibm_quantum')"
   ]
  },
  {
   "cell_type": "code",
   "execution_count": 4,
   "metadata": {},
   "outputs": [],
   "source": [
    "backends = service.backends(min_num_qubits=127)\n",
    "backend1 = backends[0]\n",
    "backend2 = backends[1]"
   ]
  },
  {
   "cell_type": "code",
   "execution_count": 6,
   "metadata": {},
   "outputs": [
    {
     "data": {
      "text/plain": [
       "('ibm_brisbane', 'ibm_kyiv')"
      ]
     },
     "execution_count": 6,
     "metadata": {},
     "output_type": "execute_result"
    }
   ],
   "source": [
    "(backend1.name, backend2.name)"
   ]
  },
  {
   "cell_type": "markdown",
   "metadata": {},
   "source": [
    "## Circuit"
   ]
  },
  {
   "cell_type": "code",
   "execution_count": 28,
   "metadata": {},
   "outputs": [
    {
     "data": {
      "text/html": [
       "<pre style=\"word-wrap: normal;white-space: pre;background: #fff0;line-height: 1.1;font-family: &quot;Courier New&quot;,Courier,monospace\">     ┌───┐                ░ ┌─┐            \n",
       "q_0: ┤ H ├──■─────────────░─┤M├────────────\n",
       "     ├───┤  │             ░ └╥┘┌─┐         \n",
       "q_1: ┤ H ├──■─────────────░──╫─┤M├─────────\n",
       "     └───┘┌─┴─┐           ░  ║ └╥┘┌─┐      \n",
       "q_2: ─────┤ X ├──■────────░──╫──╫─┤M├──────\n",
       "          └───┘┌─┴─┐      ░  ║  ║ └╥┘┌─┐   \n",
       "q_3: ──────────┤ X ├──■───░──╫──╫──╫─┤M├───\n",
       "               └───┘┌─┴─┐ ░  ║  ║  ║ └╥┘┌─┐\n",
       "q_4: ───────────────┤ X ├─░──╫──╫──╫──╫─┤M├\n",
       "                    └───┘ ░  ║  ║  ║  ║ └╥┘\n",
       "c: 5/════════════════════════╩══╩══╩══╩══╩═\n",
       "                             0  1  2  3  4 </pre>"
      ],
      "text/plain": [
       "     ┌───┐                ░ ┌─┐            \n",
       "q_0: ┤ H ├──■─────────────░─┤M├────────────\n",
       "     ├───┤  │             ░ └╥┘┌─┐         \n",
       "q_1: ┤ H ├──■─────────────░──╫─┤M├─────────\n",
       "     └───┘┌─┴─┐           ░  ║ └╥┘┌─┐      \n",
       "q_2: ─────┤ X ├──■────────░──╫──╫─┤M├──────\n",
       "          └───┘┌─┴─┐      ░  ║  ║ └╥┘┌─┐   \n",
       "q_3: ──────────┤ X ├──■───░──╫──╫──╫─┤M├───\n",
       "               └───┘┌─┴─┐ ░  ║  ║  ║ └╥┘┌─┐\n",
       "q_4: ───────────────┤ X ├─░──╫──╫──╫──╫─┤M├\n",
       "                    └───┘ ░  ║  ║  ║  ║ └╥┘\n",
       "c: 5/════════════════════════╩══╩══╩══╩══╩═\n",
       "                             0  1  2  3  4 "
      ]
     },
     "execution_count": 28,
     "metadata": {},
     "output_type": "execute_result"
    }
   ],
   "source": [
    "circuit = QuantumCircuit(5, 5)\n",
    "circuit.h([0, 1])\n",
    "circuit.ccx(0, 1, 2)\n",
    "circuit.cx(2, 3)\n",
    "circuit.cx(3, 4)\n",
    "circuit.barrier()\n",
    "circuit.measure([0, 1, 2, 3, 4], [0, 1, 2, 3, 4])\n",
    "circuit.draw()"
   ]
  },
  {
   "cell_type": "code",
   "execution_count": 37,
   "metadata": {},
   "outputs": [],
   "source": [
    "transpile_param1 = TranspileParam(\n",
    "    optimization_level=3,\n",
    "    routing_method=\"sabre\",\n",
    "    seed_transpiler=12\n",
    ")\n",
    "transpile_param2 = TranspileParam(\n",
    "    optimization_level=3,\n",
    "    routing_method=\"basic\",\n",
    "    seed_transpiler=101\n",
    ")"
   ]
  },
  {
   "cell_type": "code",
   "execution_count": 38,
   "metadata": {},
   "outputs": [
    {
     "name": "stderr",
     "output_type": "stream",
     "text": [
      "100%|██████████| 2/2 [00:01<00:00,  1.85it/s]\n"
     ]
    },
    {
     "data": {
      "application/vnd.jupyter.widget-view+json": {
       "model_id": "2030323891f3457990d6a7faf70b79b1",
       "version_major": 2,
       "version_minor": 1
      },
      "text/plain": [
       "CircuitViewer(circ='{\"original\": {\"layers\": [{\"operations\": [{\"gate\": \"h\", \"num_qubits\": 1, \"num_clbits\": 0, \"…"
      ]
     },
     "execution_count": 38,
     "metadata": {},
     "output_type": "execute_result"
    }
   ],
   "source": [
    "viewer = getCircuitViewer(circuit, [backend1, backend2], transpile_params=[transpile_param1, transpile_param2])\n",
    "viewer"
   ]
  }
 ],
 "metadata": {
  "kernelspec": {
   "display_name": "patoka",
   "language": "python",
   "name": "python3"
  },
  "language_info": {
   "codemirror_mode": {
    "name": "ipython",
    "version": 3
   },
   "file_extension": ".py",
   "mimetype": "text/x-python",
   "name": "python",
   "nbconvert_exporter": "python",
   "pygments_lexer": "ipython3",
   "version": "3.9.12"
  }
 },
 "nbformat": 4,
 "nbformat_minor": 2
}
