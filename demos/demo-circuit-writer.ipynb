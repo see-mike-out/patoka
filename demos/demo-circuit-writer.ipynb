{
 "cells": [
  {
   "cell_type": "markdown",
   "id": "89fb7e88-f069-4373-82b3-951155385104",
   "metadata": {},
   "source": [
    "# Interactive Circuit Writer Demo\n",
    "\n",
    "Note: the demo will not appear if you are looking at this on github because the widgets are dynamically created.\n",
    "\n",
    "## Imports and setup"
   ]
  },
  {
   "cell_type": "code",
   "execution_count": 1,
   "id": "0811a9e4-80dd-4d3e-94bc-3ec2d5b640a3",
   "metadata": {},
   "outputs": [],
   "source": [
    "from patoka.widgets import getCircuitWriter"
   ]
  },
  {
   "cell_type": "markdown",
   "id": "cce7381d-7ea0-47e9-93ee-6fc90ffd7537",
   "metadata": {},
   "source": [
    "## Load a writer"
   ]
  },
  {
   "cell_type": "code",
   "execution_count": 2,
   "id": "defaacdb-fd3f-48e5-a496-2de185caaee8",
   "metadata": {},
   "outputs": [
    {
     "data": {
      "application/vnd.jupyter.widget-view+json": {
       "model_id": "b926228339394a32854fd1f5409f05a4",
       "version_major": 2,
       "version_minor": 1
      },
      "text/plain": [
       "CircuitWriter(machine='{\"name\": \"Aer\", \"is_simulator\": true}')"
      ]
     },
     "execution_count": 2,
     "metadata": {},
     "output_type": "execute_result"
    }
   ],
   "source": [
    "from qiskit_aer import AerSimulator\n",
    "writer = getCircuitWriter(backend=AerSimulator())\n",
    "writer"
   ]
  },
  {
   "cell_type": "markdown",
   "id": "ae4e625d-158e-4c0d-9177-448fb4b7108c",
   "metadata": {},
   "source": [
    "## Generate code"
   ]
  },
  {
   "cell_type": "code",
   "execution_count": 3,
   "id": "19b35c7e-4224-4006-85cb-882d07113437",
   "metadata": {},
   "outputs": [
    {
     "name": "stdout",
     "output_type": "stream",
     "text": [
      "from qiskit import QuantumCircuit\n",
      "from qiskit.visualization import plot_histogram\n",
      "from qiskit.transpiler.preset_passmanagers import generate_preset_pass_manager\n",
      "from qiskit_aer import AerSimulator\n",
      "from qiskit import transpile\n",
      "from qiskit.circuit.library import QFT\n",
      "\n",
      "\n",
      "\n",
      "circuit = QuantumCircuit(5, 5)\n",
      "\n",
      "# Quantum Fourier Transform\n",
      "qft_0 = QFT(5).to_gate()\n",
      "circuit.append(qft_0, [0, 1, 2, 3, 4])\n",
      "circuit.measure([0, 1, 2, 3, 4], [0, 1, 2, 3, 4])\n",
      "\n",
      "aer_sim = AerSimulator()\n",
      "\n",
      "transpiled = transpile(circuit, aer_sim)\n",
      "job = aer_sim.run(transpiled)\n",
      "\n",
      "counts = job.result().get_counts()\n",
      "plot_histogram(counts)\n",
      "\n",
      "\n"
     ]
    }
   ],
   "source": [
    "print(writer.circ_code)"
   ]
  }
 ],
 "metadata": {
  "kernelspec": {
   "display_name": "patoka",
   "language": "python",
   "name": "python3"
  },
  "language_info": {
   "codemirror_mode": {
    "name": "ipython",
    "version": 3
   },
   "file_extension": ".py",
   "mimetype": "text/x-python",
   "name": "python",
   "nbconvert_exporter": "python",
   "pygments_lexer": "ipython3",
   "version": "3.9.12"
  }
 },
 "nbformat": 4,
 "nbformat_minor": 5
}
