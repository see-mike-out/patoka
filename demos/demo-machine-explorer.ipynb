{
 "cells": [
  {
   "cell_type": "markdown",
   "id": "8b613dca-c83d-4b18-a86a-83a596fe6e1f",
   "metadata": {},
   "source": [
    "# Interactive Machine Viewer Demo\n",
    "\n",
    "Note: the demo will not appear if you are looking at this on github because the widgets are dynamically created.\n",
    "\n",
    "## Imports and setup"
   ]
  },
  {
   "cell_type": "code",
   "execution_count": 1,
   "id": "d74c65ca-5fcc-4b80-bc7d-911e8d855dc1",
   "metadata": {},
   "outputs": [],
   "source": [
    "# qiskit circuit & machine\n",
    "from qiskit_ibm_runtime import QiskitRuntimeService\n",
    "import os\n",
    "\n",
    "from patoka.widgets import getMachineViewer"
   ]
  },
  {
   "cell_type": "markdown",
   "id": "d9b0ce81-c35c-46be-a375-1c9ce5db7afd",
   "metadata": {},
   "source": [
    "## Load a backend"
   ]
  },
  {
   "cell_type": "code",
   "execution_count": 2,
   "id": "307c60af-a3a4-4b9c-b9b2-460b2238074c",
   "metadata": {},
   "outputs": [],
   "source": [
    "token = os.environ[\"ibm_token\"]\n",
    "QiskitRuntimeService.save_account(channel=\"ibm_quantum\", token=token, overwrite=True)\n",
    "service = QiskitRuntimeService(channel=\"ibm_quantum\")\n",
    "\n",
    "avail_backends = service.backends()\n",
    "back1 = avail_backends[0]"
   ]
  },
  {
   "cell_type": "markdown",
   "id": "9a3650a9-a06e-41a7-bf10-922b2a80ab2f",
   "metadata": {},
   "source": [
    "## Load the machine viewer (with properties time machine)"
   ]
  },
  {
   "cell_type": "code",
   "execution_count": 3,
   "id": "40170703-984e-453f-8b4f-209e94171c14",
   "metadata": {},
   "outputs": [
    {
     "data": {
      "application/vnd.jupyter.widget-view+json": {
       "model_id": "0b2dd495f1704ea79c451f5a14d6e4f4",
       "version_major": 2,
       "version_minor": 1
      },
      "text/plain": [
       "MachineViewer(machine_data='{\"asof\": \"01/21/2025, 16:13:52\", \"name\": \"brisbane\", \"description\": null, \"backend…"
      ]
     },
     "execution_count": 3,
     "metadata": {},
     "output_type": "execute_result"
    }
   ],
   "source": [
    "from datetime import datetime as dt\n",
    "times_to_check=[\n",
    "    dt(2024, 7, 1),\n",
    "    dt(2024, 6, 1)\n",
    "]\n",
    "\n",
    "viewer = getMachineViewer(back1, times=times_to_check)\n",
    "viewer"
   ]
  },
  {
   "cell_type": "markdown",
   "id": "da4ef534-9793-47f5-a7ac-7d604c28917a",
   "metadata": {},
   "source": [
    "## Get the reusable code\n",
    "You could also click the \"Copy reusable code\" button."
   ]
  },
  {
   "cell_type": "code",
   "execution_count": 5,
   "id": "898ac808-bfc1-4e27-8e2b-8b411f920f76",
   "metadata": {},
   "outputs": [
    {
     "name": "stdout",
     "output_type": "stream",
     "text": [
      "def get_data(backend):\n",
      "    instruction_sx_33 = list(fliter(lambda x: x.name == \"sx\" and x.qubits == [33], backend.operations))[0]\n",
      "    instruction_sx_32 = list(fliter(lambda x: x.name == \"sx\" and x.qubits == [32], backend.operations))[0]\n",
      "    qubit_freq_est_48 = backend.defaults().qubit_freq_est[48]\n",
      "    qubit_freq_est_49 = backend.defaults().qubit_freq_est[49]\n",
      "\n",
      "    output = {\n",
      "        \"instruction_sx_33\": instruction_sx_33,\n",
      "        \"instruction_sx_32\": instruction_sx_32,\n",
      "        \"qubit_freq_est_48\": qubit_freq_est_48,\n",
      "        \"qubit_freq_est_49\": qubit_freq_est_49,\n",
      "    }\n",
      "    return output\n"
     ]
    }
   ],
   "source": [
    "print(viewer.code)"
   ]
  }
 ],
 "metadata": {
  "kernelspec": {
   "display_name": "patoka",
   "language": "python",
   "name": "python3"
  },
  "language_info": {
   "codemirror_mode": {
    "name": "ipython",
    "version": 3
   },
   "file_extension": ".py",
   "mimetype": "text/x-python",
   "name": "python",
   "nbconvert_exporter": "python",
   "pygments_lexer": "ipython3",
   "version": "3.9.12"
  }
 },
 "nbformat": 4,
 "nbformat_minor": 5
}
