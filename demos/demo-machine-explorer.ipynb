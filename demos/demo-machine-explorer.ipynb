{
 "cells": [
  {
   "cell_type": "markdown",
   "id": "8b613dca-c83d-4b18-a86a-83a596fe6e1f",
   "metadata": {},
   "source": [
    "# Interactive Machine Viewer Demo\n",
    "\n",
    "Note: the demo will not appear if you are looking at this on github because the widgets are dynamically created.\n",
    "\n",
    "## Imports and setup"
   ]
  },
  {
   "cell_type": "code",
   "execution_count": 1,
   "id": "d74c65ca-5fcc-4b80-bc7d-911e8d855dc1",
   "metadata": {},
   "outputs": [],
   "source": [
    "# qiskit circuit & machine\n",
    "from qiskit import QuantumCircuit\n",
    "from qiskit.transpiler.preset_passmanagers import generate_preset_pass_manager\n",
    "import qiskit_aer\n",
    "import qiskit_ibm_runtime\n",
    "from qiskit_ibm_runtime import QiskitRuntimeService\n",
    "from qiskit_ibm_runtime.fake_provider import FakeVigo\n",
    "import os\n",
    "\n",
    "# widget-related\n",
    "import anywidget\n",
    "import traitlets\n",
    "\n",
    "# widget function\n",
    "from patoka.machine_data_prep import getMachineInformation\n",
    "\n",
    "# host setting for dev mode\n",
    "_SS_ = \"http://localhost:5175/\"\n",
    "\n",
    "class MachineViewer(anywidget.AnyWidget):\n",
    "    _esm = _SS_ + \"index.js?anywidget\"\n",
    "    machine_data = traitlets.Unicode().tag(sync=True)\n",
    "    code = traitlets.Unicode().tag(sync=True)\n",
    "    mode = traitlets.Unicode(\"machine\").tag(sync=True)\n",
    "\n",
    "def getMachineViewer(backend, times=[]):\n",
    "    machine_info = getMachineInformation(backend, times)\n",
    "    machine_data = machine_info.toJSON()\n",
    "    code = \"\"\n",
    "    return MachineViewer(machine_data=machine_data, code=code)"
   ]
  },
  {
   "cell_type": "markdown",
   "id": "d9b0ce81-c35c-46be-a375-1c9ce5db7afd",
   "metadata": {},
   "source": [
    "## Load a backend"
   ]
  },
  {
   "cell_type": "code",
   "execution_count": 2,
   "id": "307c60af-a3a4-4b9c-b9b2-460b2238074c",
   "metadata": {},
   "outputs": [],
   "source": [
    "token = os.environ[\"ibm_token\"]\n",
    "QiskitRuntimeService.save_account(channel=\"ibm_quantum\", token=token, overwrite=True)\n",
    "service = QiskitRuntimeService(channel=\"ibm_quantum\")\n",
    "\n",
    "avail_backends = service.backends()\n",
    "back1 = avail_backends[0]"
   ]
  },
  {
   "cell_type": "markdown",
   "id": "9a3650a9-a06e-41a7-bf10-922b2a80ab2f",
   "metadata": {},
   "source": [
    "## Load the machine viewer (with properties time machine)"
   ]
  },
  {
   "cell_type": "code",
   "execution_count": 3,
   "id": "40170703-984e-453f-8b4f-209e94171c14",
   "metadata": {},
   "outputs": [
    {
     "data": {
      "application/vnd.jupyter.widget-view+json": {
       "model_id": "2a9e0c3f0ceb43db81d9c42615c56e6b",
       "version_major": 2,
       "version_minor": 1
      },
      "text/plain": [
       "MachineViewer(machine_data='{\"asof\": \"09/27/2024, 09:50:03\", \"name\": \"brisbane\", \"description\": null, \"backend…"
      ]
     },
     "execution_count": 3,
     "metadata": {},
     "output_type": "execute_result"
    }
   ],
   "source": [
    "from datetime import datetime as dt\n",
    "times_to_check=[\n",
    "    dt(2024, 7, 1),\n",
    "    dt(2024, 6, 1)\n",
    "]\n",
    "\n",
    "viewer = getMachineViewer(back1, times=times_to_check)\n",
    "viewer"
   ]
  },
  {
   "cell_type": "markdown",
   "id": "da4ef534-9793-47f5-a7ac-7d604c28917a",
   "metadata": {},
   "source": [
    "## Get the reusable code\n",
    "You could also click the \"Copy reusable code\" button."
   ]
  },
  {
   "cell_type": "code",
   "execution_count": 5,
   "id": "898ac808-bfc1-4e27-8e2b-8b411f920f76",
   "metadata": {},
   "outputs": [
    {
     "name": "stdout",
     "output_type": "stream",
     "text": [
      "def get_data(backend):\n",
      "    qubit_qubits_0_prob_meas0_prep1 = backend.properties().qubit_property(0, name=\"prob_meas0_prep1\")\n",
      "    qubit_qubits_0_prob_meas1_prep0 = backend.properties().qubit_property(0, name=\"prob_meas1_prep0\")\n",
      "\n",
      "    output = {\n",
      "        \"qubit_qubits_0_prob_meas0_prep1\": qubit_qubits_0_prob_meas0_prep1,\n",
      "        \"qubit_qubits_0_prob_meas1_prep0\": qubit_qubits_0_prob_meas1_prep0,\n",
      "    }\n",
      "    return output\n"
     ]
    }
   ],
   "source": [
    "print(viewer.code)"
   ]
  }
 ],
 "metadata": {
  "kernelspec": {
   "display_name": "Python 3 (ipykernel)",
   "language": "python",
   "name": "python3"
  },
  "language_info": {
   "codemirror_mode": {
    "name": "ipython",
    "version": 3
   },
   "file_extension": ".py",
   "mimetype": "text/x-python",
   "name": "python",
   "nbconvert_exporter": "python",
   "pygments_lexer": "ipython3",
   "version": "3.12.3"
  }
 },
 "nbformat": 4,
 "nbformat_minor": 5
}
