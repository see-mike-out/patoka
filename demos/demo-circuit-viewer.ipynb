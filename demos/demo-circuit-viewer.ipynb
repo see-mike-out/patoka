{
 "cells": [
  {
   "cell_type": "markdown",
   "id": "b3c0a2eb-4d3e-4685-b8b7-b09dc9793eb2",
   "metadata": {},
   "source": [
    "# Interactive Circuit Viewer Demo\n",
    "\n",
    "Note: the demo will not appear if you are looking at this on github because the widgets are dynamically created.\n",
    "\n",
    "## Imports and setup"
   ]
  },
  {
   "cell_type": "code",
   "execution_count": 1,
   "id": "da930d8a-b653-4a07-a308-994f12d4e421",
   "metadata": {},
   "outputs": [],
   "source": [
    "# importing\n",
    "from patoka.widgets import getCircuitViewer\n",
    "from patoka.transpile_params import TranspileParam"
   ]
  },
  {
   "cell_type": "markdown",
   "id": "6c232fec-01e8-4065-aef3-0b99743e93e7",
   "metadata": {},
   "source": [
    "## Write a circuit and set a backend"
   ]
  },
  {
   "cell_type": "code",
   "execution_count": 3,
   "id": "20128020-75a9-414d-afd0-4409891f8a20",
   "metadata": {},
   "outputs": [],
   "source": [
    "from qiskit import QuantumCircuit\n",
    "import qiskit_aer\n",
    "from qiskit_ibm_runtime.fake_provider import FakeVigoV2\n",
    "from qiskit.circuit.library import QFT\n",
    "\n",
    "qft = QFT(5).to_gate()\n",
    "\n",
    "qcb = QuantumCircuit(5,5)\n",
    "qcb.h(0)\n",
    "qcb.h(1)\n",
    "qcb.h(2)\n",
    "qcb.h(3)\n",
    "qcb.h(4)\n",
    "qcb.append(qft, [0, 1, 2, 3, 4])\n",
    "qcb.measure_all()\n",
    "\n",
    "backend = qiskit_aer.AerSimulator.from_backend(FakeVigoV2())\n",
    "transpile_params = TranspileParam(\n",
    "    optimization_level=1\n",
    ")"
   ]
  },
  {
   "cell_type": "markdown",
   "id": "2c5673aa-c12b-414a-a7ab-6b8f28c18b25",
   "metadata": {},
   "source": [
    "## Load the viewer"
   ]
  },
  {
   "cell_type": "code",
   "execution_count": 4,
   "id": "b15b8de5-dd8f-4db0-8566-8ceaaeadd10b",
   "metadata": {},
   "outputs": [
    {
     "ename": "AttributeError",
     "evalue": "attribute 'qubits' of 'qiskit._accelerate.circuit.DAGCircuit' objects is not writable",
     "output_type": "error",
     "traceback": [
      "\u001b[0;31m---------------------------------------------------------------------------\u001b[0m",
      "\u001b[0;31mAttributeError\u001b[0m                            Traceback (most recent call last)",
      "Cell \u001b[0;32mIn[4], line 1\u001b[0m\n\u001b[0;32m----> 1\u001b[0m viewer \u001b[38;5;241m=\u001b[39m \u001b[43mgetCircuitViewer\u001b[49m\u001b[43m(\u001b[49m\u001b[43mqcb\u001b[49m\u001b[43m,\u001b[49m\u001b[43m \u001b[49m\u001b[43m[\u001b[49m\u001b[43mbackend\u001b[49m\u001b[43m]\u001b[49m\u001b[43m,\u001b[49m\u001b[43m \u001b[49m\u001b[43mtranspile_params\u001b[49m\u001b[38;5;241;43m=\u001b[39;49m\u001b[43m[\u001b[49m\u001b[43mtranspile_params\u001b[49m\u001b[43m]\u001b[49m\u001b[43m)\u001b[49m\n",
      "File \u001b[0;32m~/nosync/patoka/src/patoka/widgets.py:11\u001b[0m, in \u001b[0;36mgetCircuitViewer\u001b[0;34m(circuit, backends, transpile_params)\u001b[0m\n\u001b[1;32m     10\u001b[0m \u001b[38;5;28;01mdef\u001b[39;00m\u001b[38;5;250m \u001b[39m\u001b[38;5;21mgetCircuitViewer\u001b[39m(circuit, backends, transpile_params\u001b[38;5;241m=\u001b[39m[]):\n\u001b[0;32m---> 11\u001b[0m     \u001b[38;5;28;01mreturn\u001b[39;00m \u001b[43mgetCircuitViewerClass\u001b[49m\u001b[43m(\u001b[49m\u001b[43m_SS_\u001b[49m\u001b[43m,\u001b[49m\u001b[43m \u001b[49m\u001b[43mcircuit\u001b[49m\u001b[38;5;241;43m=\u001b[39;49m\u001b[43mcircuit\u001b[49m\u001b[43m,\u001b[49m\u001b[43m \u001b[49m\u001b[43mbackends\u001b[49m\u001b[38;5;241;43m=\u001b[39;49m\u001b[43mbackends\u001b[49m\u001b[43m,\u001b[49m\u001b[43m \u001b[49m\u001b[43mtranspile_params\u001b[49m\u001b[38;5;241;43m=\u001b[39;49m\u001b[43mtranspile_params\u001b[49m\u001b[43m)\u001b[49m\n",
      "File \u001b[0;32m~/nosync/patoka/src/patoka/widget_classes.py:25\u001b[0m, in \u001b[0;36mgetCircuitViewerClass\u001b[0;34m(source_dir, circuit, backends, transpile_params)\u001b[0m\n\u001b[1;32m     24\u001b[0m \u001b[38;5;28;01mdef\u001b[39;00m\u001b[38;5;250m \u001b[39m\u001b[38;5;21mgetCircuitViewerClass\u001b[39m(source_dir, circuit, backends, transpile_params\u001b[38;5;241m=\u001b[39m[]):\n\u001b[0;32m---> 25\u001b[0m     prep \u001b[38;5;241m=\u001b[39m \u001b[43mprepareData\u001b[49m\u001b[43m(\u001b[49m\u001b[43mcircuit\u001b[49m\u001b[43m,\u001b[49m\u001b[43m \u001b[49m\u001b[43mbackends\u001b[49m\u001b[38;5;241;43m=\u001b[39;49m\u001b[43mbackends\u001b[49m\u001b[43m,\u001b[49m\u001b[43m \u001b[49m\u001b[43mtranspile_params\u001b[49m\u001b[38;5;241;43m=\u001b[39;49m\u001b[43mtranspile_params\u001b[49m\u001b[43m)\u001b[49m\n\u001b[1;32m     26\u001b[0m     circuit_str \u001b[38;5;241m=\u001b[39m prep\u001b[38;5;241m.\u001b[39mtoJSON()\n\u001b[1;32m     27\u001b[0m     \u001b[38;5;28;01mreturn\u001b[39;00m CircuitViewer(circ\u001b[38;5;241m=\u001b[39mcircuit_str, source\u001b[38;5;241m=\u001b[39msource_dir)\n",
      "File \u001b[0;32m~/nosync/patoka/src/patoka/circuit_data_prep.py:36\u001b[0m, in \u001b[0;36mprepareData\u001b[0;34m(circuit, backends, transpile_params)\u001b[0m\n\u001b[1;32m     33\u001b[0m n_params \u001b[38;5;241m=\u001b[39m \u001b[38;5;28mlen\u001b[39m(transpile_params)\n\u001b[1;32m     35\u001b[0m \u001b[38;5;66;03m# get the original circuit's layout data\u001b[39;00m\n\u001b[0;32m---> 36\u001b[0m layer_original \u001b[38;5;241m=\u001b[39m \u001b[43mgetCircuitLayout\u001b[49m\u001b[43m(\u001b[49m\u001b[43mcircuit\u001b[49m\u001b[43m)\u001b[49m\n\u001b[1;32m     38\u001b[0m original_qasm2 \u001b[38;5;241m=\u001b[39m \u001b[38;5;28;01mNone\u001b[39;00m\n\u001b[1;32m     39\u001b[0m \u001b[38;5;28;01mtry\u001b[39;00m:\n",
      "File \u001b[0;32m~/nosync/patoka/src/patoka/qiskit_draw_utils.py:27\u001b[0m, in \u001b[0;36mgetCircuitLayout\u001b[0;34m(circuit)\u001b[0m\n\u001b[1;32m     26\u001b[0m \u001b[38;5;28;01mdef\u001b[39;00m\u001b[38;5;250m \u001b[39m\u001b[38;5;21mgetCircuitLayout\u001b[39m(circuit):\n\u001b[0;32m---> 27\u001b[0m     layered_instructions \u001b[38;5;241m=\u001b[39m \u001b[43mget_layered_instructions\u001b[49m\u001b[43m(\u001b[49m\u001b[43mcircuit\u001b[49m\u001b[43m)\u001b[49m\n\u001b[1;32m     28\u001b[0m     dl \u001b[38;5;241m=\u001b[39m []\n\u001b[1;32m     29\u001b[0m     _layout \u001b[38;5;241m=\u001b[39m circuit\u001b[38;5;241m.\u001b[39mlayout\n",
      "File \u001b[0;32m~/nosync/patoka/src/patoka/qiskit_draw_utils.py:142\u001b[0m, in \u001b[0;36mget_layered_instructions\u001b[0;34m(circuit, reverse_bits, justify, idle_wires, wire_order, wire_map)\u001b[0m\n\u001b[1;32m    139\u001b[0m     clbits \u001b[38;5;241m=\u001b[39m new_clbits\n\u001b[1;32m    141\u001b[0m dag \u001b[38;5;241m=\u001b[39m circuit_to_dag(circuit)\n\u001b[0;32m--> 142\u001b[0m \u001b[43mdag\u001b[49m\u001b[38;5;241;43m.\u001b[39;49m\u001b[43mqubits\u001b[49m \u001b[38;5;241m=\u001b[39m qubits\n\u001b[1;32m    143\u001b[0m dag\u001b[38;5;241m.\u001b[39mclbits \u001b[38;5;241m=\u001b[39m clbits\n\u001b[1;32m    145\u001b[0m \u001b[38;5;28;01mif\u001b[39;00m justify \u001b[38;5;241m==\u001b[39m \u001b[38;5;124m\"\u001b[39m\u001b[38;5;124mnone\u001b[39m\u001b[38;5;124m\"\u001b[39m:\n",
      "\u001b[0;31mAttributeError\u001b[0m: attribute 'qubits' of 'qiskit._accelerate.circuit.DAGCircuit' objects is not writable"
     ]
    }
   ],
   "source": [
    "viewer = getCircuitViewer(qcb, [backend], transpile_params=[transpile_params])"
   ]
  },
  {
   "cell_type": "code",
   "execution_count": 5,
   "id": "05fdc3c6-6cd4-4c85-9d08-995451eb7463",
   "metadata": {},
   "outputs": [
    {
     "ename": "NameError",
     "evalue": "name 'viewer' is not defined",
     "output_type": "error",
     "traceback": [
      "\u001b[0;31m---------------------------------------------------------------------------\u001b[0m",
      "\u001b[0;31mNameError\u001b[0m                                 Traceback (most recent call last)",
      "Cell \u001b[0;32mIn[5], line 1\u001b[0m\n\u001b[0;32m----> 1\u001b[0m \u001b[43mviewer\u001b[49m\n",
      "\u001b[0;31mNameError\u001b[0m: name 'viewer' is not defined"
     ]
    }
   ],
   "source": [
    "viewer"
   ]
  }
 ],
 "metadata": {
  "kernelspec": {
   "display_name": "patoka",
   "language": "python",
   "name": "python3"
  },
  "language_info": {
   "codemirror_mode": {
    "name": "ipython",
    "version": 3
   },
   "file_extension": ".py",
   "mimetype": "text/x-python",
   "name": "python",
   "nbconvert_exporter": "python",
   "pygments_lexer": "ipython3",
   "version": "3.9.12"
  }
 },
 "nbformat": 4,
 "nbformat_minor": 5
}
