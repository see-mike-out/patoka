{
 "cells": [
  {
   "cell_type": "markdown",
   "id": "b3c0a2eb-4d3e-4685-b8b7-b09dc9793eb2",
   "metadata": {},
   "source": [
    "# Interactive Circuit Viewer Demo\n",
    "\n",
    "Note: the demo will not appear if you are looking at this on github because the widgets are dynamically created.\n",
    "\n",
    "## Imports and setup"
   ]
  },
  {
   "cell_type": "code",
   "execution_count": 1,
   "id": "da930d8a-b653-4a07-a308-994f12d4e421",
   "metadata": {},
   "outputs": [],
   "source": [
    "# importing\n",
    "from patoka import getCircuitViewer\n",
    "from patoka import TranspileParam"
   ]
  },
  {
   "cell_type": "markdown",
   "id": "6c232fec-01e8-4065-aef3-0b99743e93e7",
   "metadata": {},
   "source": [
    "## Write a circuit and set a backend"
   ]
  },
  {
   "cell_type": "code",
   "execution_count": 2,
   "id": "20128020-75a9-414d-afd0-4409891f8a20",
   "metadata": {},
   "outputs": [],
   "source": [
    "from qiskit import QuantumCircuit\n",
    "import qiskit_aer\n",
    "from qiskit_ibm_runtime.fake_provider import FakeVigoV2\n",
    "from qiskit.circuit.library import QFT\n",
    "\n",
    "qft = QFT(5).to_gate()\n",
    "\n",
    "qcb = QuantumCircuit(5,5)\n",
    "qcb.h(0)\n",
    "qcb.h(1)\n",
    "qcb.h(2)\n",
    "qcb.h(3)\n",
    "qcb.h(4)\n",
    "qcb.append(qft, [0, 1, 2, 3, 4])\n",
    "qcb.measure_all()\n",
    "\n",
    "backend = qiskit_aer.AerSimulator.from_backend(FakeVigoV2())\n",
    "transpile_params = TranspileParam(\n",
    "    optimization_level=1\n",
    ")"
   ]
  },
  {
   "cell_type": "markdown",
   "id": "2c5673aa-c12b-414a-a7ab-6b8f28c18b25",
   "metadata": {},
   "source": [
    "## Load the viewer"
   ]
  },
  {
   "cell_type": "code",
   "execution_count": 3,
   "id": "b15b8de5-dd8f-4db0-8566-8ceaaeadd10b",
   "metadata": {},
   "outputs": [
    {
     "name": "stderr",
     "output_type": "stream",
     "text": [
      "100%|██████████| 1/1 [00:00<00:00,  8.88it/s]\n"
     ]
    }
   ],
   "source": [
    "viewer = getCircuitViewer(qcb, [backend], transpile_params=[transpile_params])"
   ]
  },
  {
   "cell_type": "code",
   "execution_count": 4,
   "id": "05fdc3c6-6cd4-4c85-9d08-995451eb7463",
   "metadata": {},
   "outputs": [
    {
     "data": {
      "application/vnd.jupyter.widget-view+json": {
       "model_id": "3270ffc795694474a8b875aef42186bf",
       "version_major": 2,
       "version_minor": 1
      },
      "text/plain": [
       "CircuitViewer(circ='{\"original\": {\"layers\": [{\"operations\": [{\"gate\": \"h\", \"num_qubits\": 1, \"num_clbits\": 0, \"…"
      ]
     },
     "execution_count": 4,
     "metadata": {},
     "output_type": "execute_result"
    }
   ],
   "source": [
    "viewer"
   ]
  },
  {
   "cell_type": "code",
   "execution_count": null,
   "id": "51b02ccb-7807-4212-ab75-b28767499179",
   "metadata": {},
   "outputs": [],
   "source": []
  }
 ],
 "metadata": {
  "kernelspec": {
   "display_name": "patoka",
   "language": "python",
   "name": "python3"
  },
  "language_info": {
   "codemirror_mode": {
    "name": "ipython",
    "version": 3
   },
   "file_extension": ".py",
   "mimetype": "text/x-python",
   "name": "python",
   "nbconvert_exporter": "python",
   "pygments_lexer": "ipython3",
   "version": "3.9.12"
  }
 },
 "nbformat": 4,
 "nbformat_minor": 5
}
